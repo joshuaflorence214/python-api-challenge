{
 "cells": [
  {
   "cell_type": "markdown",
   "metadata": {},
   "source": [
    "# WeatherPy\n",
    "----\n",
    "\n",
    "#### Note\n",
    "* Instructions have been included for each segment. You do not have to follow them exactly, but they are included to help you think through the steps."
   ]
  },
  {
   "cell_type": "code",
   "execution_count": 1,
   "metadata": {
    "scrolled": true
   },
   "outputs": [],
   "source": [
    "# Dependencies and Setup\n",
    "import matplotlib.pyplot as plt\n",
    "import pandas as pd\n",
    "import numpy as np\n",
    "import requests\n",
    "import time\n",
    "import json\n",
    "import datetime\n",
    "from scipy.stats import linregress\n",
    "plt.style.use('ggplot')\n",
    "\n",
    "# Import API key\n",
    "from api_keys import weather_api_key\n",
    "\n",
    "# Incorporated citipy to determine city based on latitude and longitude\n",
    "from citipy import citipy\n",
    "\n",
    "# Output File (CSV)\n",
    "output_data_file = \"output_data/cities.csv\"\n",
    "\n",
    "# Range of latitudes and longitudes\n",
    "lat_range = (-90, 90)\n",
    "lng_range = (-180, 180)"
   ]
  },
  {
   "cell_type": "markdown",
   "metadata": {},
   "source": [
    "## Generate Cities List"
   ]
  },
  {
   "cell_type": "code",
   "execution_count": 2,
   "metadata": {},
   "outputs": [
    {
     "data": {
      "text/plain": [
       "603"
      ]
     },
     "execution_count": 2,
     "metadata": {},
     "output_type": "execute_result"
    }
   ],
   "source": [
    "# List for holding lat_lngs and cities\n",
    "lat_lngs = []\n",
    "cities = []\n",
    "\n",
    "# Create a set of random lat and lng combinations\n",
    "lats = np.random.uniform(lat_range[0], lat_range[1], size=1500)\n",
    "lngs = np.random.uniform(lng_range[0], lng_range[1], size=1500)\n",
    "lat_lngs = zip(lats, lngs)\n",
    "\n",
    "# Identify nearest city for each lat, lng combination\n",
    "for lat_lng in lat_lngs:\n",
    "    city = citipy.nearest_city(lat_lng[0], lat_lng[1]).city_name\n",
    "    \n",
    "    # If the city is unique, then add it to a our cities list\n",
    "    if city not in cities:\n",
    "        cities.append(city)\n",
    "\n",
    "# Print the city count to confirm sufficient count\n",
    "len(cities)"
   ]
  },
  {
   "cell_type": "code",
   "execution_count": 3,
   "metadata": {},
   "outputs": [],
   "source": [
    "city_name_list = []\n",
    "cloudiness_list = []\n",
    "country_list = []\n",
    "date_list = []\n",
    "humidity_list = []\n",
    "lat_list = []\n",
    "lng_list = []\n",
    "max_temp_list = []\n",
    "wind_speed_list = []\n",
    "index_counter = 0\n",
    "set_counter = 1"
   ]
  },
  {
   "cell_type": "code",
   "execution_count": 4,
   "metadata": {},
   "outputs": [
    {
     "data": {
      "text/plain": [
       "['mar del plata',\n",
       " 'tual',\n",
       " 'san patricio',\n",
       " 'jacareacanga',\n",
       " 'ushuaia',\n",
       " 'atuona',\n",
       " 'tabiauea',\n",
       " 'rikitea',\n",
       " 'ambon',\n",
       " 'kavieng']"
      ]
     },
     "execution_count": 4,
     "metadata": {},
     "output_type": "execute_result"
    }
   ],
   "source": [
    "cities[:10]"
   ]
  },
  {
   "cell_type": "code",
   "execution_count": 5,
   "metadata": {},
   "outputs": [],
   "source": [
    "#Frist reach out to API using browser\n",
    "#api.openweathermap.org/data/2.5/weather?q=pedernales&appid=2295e1d38e1b729fc6f7dd1ac6efb22d"
   ]
  },
  {
   "cell_type": "code",
   "execution_count": 6,
   "metadata": {},
   "outputs": [
    {
     "name": "stdout",
     "output_type": "stream",
     "text": [
      "mar del plata\n",
      "https://api.openweathermap.org/data/2.5/weather?q=mar del plata&appid=2295e1d38e1b729fc6f7dd1ac6efb22d\n",
      "200\n",
      "{'coord': {'lon': -57.56, 'lat': -38}, 'weather': [{'id': 800, 'main': 'Clear', 'description': 'clear sky', 'icon': '01d'}], 'base': 'stations', 'main': {'temp': 293.15, 'feels_like': 290.3, 'temp_min': 293.15, 'temp_max': 293.15, 'pressure': 1024, 'humidity': 34}, 'visibility': 10000, 'wind': {'speed': 2.1, 'deg': 140}, 'clouds': {'all': 0}, 'dt': 1598035467, 'sys': {'type': 1, 'id': 8305, 'country': 'AR', 'sunrise': 1598005621, 'sunset': 1598044793}, 'timezone': -10800, 'id': 3430863, 'name': 'Mar del Plata', 'cod': 200}\n"
     ]
    }
   ],
   "source": [
    "city_name = cities[0]\n",
    "print(city_name)\n",
    "url = f\"https://api.openweathermap.org/data/2.5/weather?q={city_name}&appid={weather_api_key}\"\n",
    "print(url)\n",
    "\n",
    "#Make a request to API endpoint ...(requests return responses)\n",
    "\n",
    "response= requests.get(url)\n",
    "print(response.status_code)\n",
    "print(response.json())"
   ]
  },
  {
   "cell_type": "code",
   "execution_count": null,
   "metadata": {},
   "outputs": [],
   "source": [
    "\n",
    "      "
   ]
  },
  {
   "cell_type": "code",
   "execution_count": null,
   "metadata": {},
   "outputs": [],
   "source": []
  },
  {
   "cell_type": "markdown",
   "metadata": {},
   "source": [
    "### Perform API Calls\n",
    "* Perform a weather check on each city using a series of successive API calls.\n",
    "* Include a print log of each city as it'sbeing processed (with the city number and city name).\n"
   ]
  },
  {
   "cell_type": "code",
   "execution_count": 7,
   "metadata": {},
   "outputs": [
    {
     "name": "stdout",
     "output_type": "stream",
     "text": [
      "City: Mar Del Plata, ID: 3430863\n",
      "City: Tual, ID: 1623197\n",
      "City: San Patricio, ID: 3985168\n",
      "City: Jacareacanga, ID: 3397763\n",
      "City: Ushuaia, ID: 3833367\n",
      "City: Atuona, ID: 4020109\n",
      "City: Rikitea, ID: 4030556\n",
      "City: Ambon, ID: 1651531\n",
      "City: Kavieng, ID: 2094342\n",
      "City: Ancud, ID: 3899695\n",
      "City: Neuquen, ID: 3843123\n",
      "City: Birjand, ID: 140463\n",
      "City: Saldanha, ID: 3361934\n",
      "City: New Norfolk, ID: 2155415\n",
      "City: Gobo, ID: 1863614\n",
      "City: Mpika, ID: 905846\n",
      "City: Mezen, ID: 527321\n",
      "City: Busselton, ID: 2075265\n",
      "City: Hilo, ID: 5855927\n",
      "City: Barrow, ID: 5880054\n",
      "City: Punta Arenas, ID: 3874787\n",
      "City: Vaini, ID: 4032243\n",
      "City: Porto Murtinho, ID: 3452712\n",
      "City: Ilulissat, ID: 3423146\n",
      "City: Puerto Ayora, ID: 3652764\n",
      "City: Bluff, ID: 2206939\n",
      "City: Neryungri, ID: 2019309\n",
      "City: Kapaa, ID: 5848280\n",
      "City: Cherskiy, ID: 2126199\n",
      "City: Henties Bay, ID: 3356832\n",
      "City: Albany, ID: 5106841\n",
      "City: Laredo, ID: 4705349\n",
      "City: Touros, ID: 3386213\n",
      "City: Jumla, ID: 1283285\n",
      "City: Conceicao Do Araguaia, ID: 3401845\n",
      "City: Dingle, ID: 1714733\n",
      "City: Hermanus, ID: 3366880\n",
      "City: Jand, ID: 1176218\n",
      "City: Arraial Do Cabo, ID: 3471451\n",
      "City: Amga, ID: 2027786\n",
      "City: Bairiki, ID: 7601762\n",
      "City: Tura, ID: 1254046\n",
      "City: Qaanaaq, ID: 3831208\n",
      "City: Pervoye Maya, ID: 828440\n",
      "City: Cidreira, ID: 3466165\n",
      "City: Mikkeli, ID: 646005\n",
      "City: Taltal, ID: 3870243\n",
      "City: Georgetown, ID: 1735106\n",
      "City: Alyangula, ID: 2079582\n",
      "City: Puerto Rico, ID: 3429732\n",
      "City: Mataura, ID: 6201424\n",
      "City: Hobart, ID: 2163355\n",
      "City: Diamantino, ID: 3464724\n",
      "City: Butaritari, ID: 2110227\n",
      "City: Bethel, ID: 5282297\n",
      "City: Trinidad, ID: 3902377\n",
      "City: Lebu, ID: 3883457\n",
      "City: Mehamn, ID: 778707\n",
      "City: Newport, ID: 2641598\n",
      "City: Bambanglipuro, ID: 1650434\n",
      "City: Port Hardy, ID: 6111862\n",
      "City: Geraldton, ID: 2070998\n",
      "City: Oblivskaya, ID: 516454\n",
      "City: Mount Gambier, ID: 2156643\n",
      "City: Cape Town, ID: 3369157\n",
      "City: Joshimath, ID: 1268814\n",
      "City: Port Elizabeth, ID: 964420\n",
      "City: Mayo, ID: 4362001\n",
      "City: Logansport, ID: 4922968\n",
      "City: Longyearbyen, ID: 2729907\n",
      "City: Santa Margherita Ligure, ID: 3167595\n",
      "City: Camacha, ID: 2270385\n",
      "City: Saint-Philippe, ID: 935215\n",
      "City: Labuhan, ID: 8079926\n",
      "City: Esperance, ID: 2071860\n",
      "City: Itarema, ID: 3393692\n",
      "City: Ixtapa, ID: 4004293\n",
      "City: Te Anau, ID: 2181625\n",
      "City: Tilichiki, ID: 2120591\n",
      "City: Ponta Do Sol, ID: 2264557\n",
      "City: Aqtobe, ID: 610611\n",
      "City: Mishan, ID: 2035746\n",
      "City: San Cristobal, ID: 3628473\n",
      "City: Bima, ID: 1648759\n",
      "City: Fairbanks, ID: 5861897\n",
      "City: Mackay, ID: 2159220\n",
      "City: Aldan, ID: 2027968\n",
      "City: Hamilton, ID: 4513583\n",
      "City: Loandjili, ID: 2258378\n",
      "City: America Dourada, ID: 3472344\n",
      "City: Cockburn Town, ID: 3576994\n",
      "City: Alofi, ID: 4036284\n",
      "City: Bredasdorp, ID: 1015776\n",
      "City: Sandy Bay, ID: 2206089\n",
      "City: Asau, ID: 686090\n",
      "City: Kodiak, ID: 5866583\n",
      "City: Krasnoselkup, ID: 1502073\n",
      "City: Lorengau, ID: 2092164\n",
      "City: Sinnamary, ID: 3380290\n",
      "City: Iqaluit, ID: 5983720\n",
      "City: Mount Isa, ID: 2065594\n",
      "City: Pisco, ID: 3932145\n",
      "City: Tasiilaq, ID: 3424607\n",
      "City: Yellowknife, ID: 6185377\n",
      "City: Tadpatri, ID: 1255254\n",
      "City: Mokrous, ID: 525719\n",
      "City: Hithadhoo, ID: 1282256\n",
      "City: Isangel, ID: 2136825\n",
      "City: Qasigiannguit, ID: 3420768\n",
      "City: Kotelnich, ID: 543737\n",
      "City: Thompson, ID: 6165406\n",
      "City: Grindavik, ID: 3416888\n",
      "City: Rocha, ID: 3440777\n",
      "City: Katsuura, ID: 2112309\n",
      "City: Carnarvon, ID: 2074865\n",
      "City: Urucara, ID: 3385670\n",
      "City: Bambous Virieux, ID: 1106677\n",
      "City: Vila Franca Do Campo, ID: 3372472\n",
      "City: Bouna, ID: 2290849\n",
      "City: Puerto Montt, ID: 3874960\n",
      "City: Port Alfred, ID: 964432\n",
      "City: Casambalangan, ID: 1718214\n",
      "City: Hokitika, ID: 2206894\n",
      "City: Srednekolymsk, ID: 2121025\n",
      "City: Avera, ID: 4231997\n",
      "City: Acapulco, ID: 3533462\n",
      "City: Khatanga, ID: 2022572\n",
      "City: Tiksi, ID: 2015306\n",
      "City: Nacogdoches, ID: 4713738\n",
      "City: Vila Velha, ID: 3445026\n",
      "City: Olafsvik, ID: 3414079\n",
      "City: Codrington, ID: 2171099\n",
      "City: Bengkulu, ID: 1649150\n",
      "City: Kavaratti, ID: 1267390\n",
      "City: Jamestown, ID: 5122534\n",
      "City: Anadyr, ID: 2127202\n",
      "City: Baishishan, ID: 2038529\n",
      "City: Gamba, ID: 2400547\n",
      "City: Los Llanos De Aridane, ID: 2514651\n",
      "City: Paso De Carrasco, ID: 3441292\n",
      "City: Nikolskoye, ID: 546105\n",
      "City: Saint-Pierre, ID: 935214\n",
      "City: Aksarka, ID: 1512019\n",
      "City: Whitehorse, ID: 6180550\n",
      "City: Pevek, ID: 2122090\n",
      "City: Nipawin, ID: 6088469\n",
      "City: Prieska, ID: 964090\n",
      "City: Chuy, ID: 3443061\n",
      "City: Frontera, ID: 3980180\n",
      "City: Fez, ID: 2548885\n",
      "City: Tokonou, ID: 2414659\n",
      "City: Sandviken, ID: 2680075\n",
      "City: Vostok, ID: 2013279\n",
      "City: Hasaki, ID: 2112802\n",
      "City: Pokhara, ID: 1282898\n",
      "City: Fortuna, ID: 5563839\n",
      "City: Varkaus, ID: 632370\n",
      "City: Vanavara, ID: 2013727\n",
      "City: Petropavlovsk-Kamchatskiy, ID: 2122104\n",
      "City: Jadu, ID: 2216432\n",
      "City: Phalodi, ID: 1259813\n",
      "City: Antalaha, ID: 1071296\n",
      "City: Sydney Mines, ID: 7303783\n",
      "City: Ekhabi, ID: 2122614\n",
      "City: Montlucon, ID: 2992292\n",
      "City: Palasa, ID: 1260771\n",
      "City: Escalerillas, ID: 4006677\n",
      "City: Talant, ID: 2973510\n",
      "City: Russellville, ID: 4129397\n",
      "City: Yaan, ID: 2338660\n",
      "City: Tirat Karmel, ID: 293308\n",
      "City: Ambanja, ID: 1083724\n",
      "City: Aljezur, ID: 2271968\n",
      "City: Constitucion, ID: 3893726\n",
      "City: Saint-Augustin, ID: 6137462\n",
      "City: Tuatapere, ID: 2180815\n",
      "City: Carlos Chagas, ID: 3466931\n",
      "City: Gladstone, ID: 2165478\n",
      "City: Saravan, ID: 174726\n",
      "City: Naze, ID: 1855540\n",
      "City: Saskylakh, ID: 2017155\n",
      "City: Chokurdakh, ID: 2126123\n",
      "City: Naro Moru, ID: 184367\n",
      "City: Victoria, ID: 1819729\n",
      "City: Mbini, ID: 2308278\n",
      "City: Pakokku, ID: 1302439\n",
      "City: Dikson, ID: 1507390\n",
      "City: Vilyuysk, ID: 2013392\n",
      "City: Avenal, ID: 5325327\n",
      "City: Margate, ID: 2643044\n",
      "City: Marabba, ID: 370510\n",
      "City: Pandan, ID: 1695546\n",
      "City: Ajdabiya, ID: 89113\n",
      "City: Bloomfield, ID: 5095779\n",
      "City: Mitsamiouli, ID: 921786\n",
      "City: Marsh Harbour, ID: 3571913\n",
      "City: Kismayo, ID: 55671\n",
      "City: Shaki, ID: 585031\n",
      "City: Caravelas, ID: 3466980\n",
      "City: Lagoa, ID: 3372964\n",
      "City: Gavle, ID: 2712414\n",
      "City: Mocuba, ID: 1024312\n",
      "City: Clyde River, ID: 5924351\n",
      "City: Half Moon Bay, ID: 5354943\n",
      "City: Ribeira Grande, ID: 3372707\n",
      "City: Nome, ID: 5870133\n",
      "City: Ust-Kut, ID: 2013923\n",
      "City: Tuktoyaktuk, ID: 6170031\n",
      "City: Bandarbeyla, ID: 64814\n",
      "City: Honningsvag, ID: 779554\n",
      "City: Faanui, ID: 4034551\n",
      "City: Tyup, ID: 1527121\n",
      "City: Fukagawa, ID: 2130332\n",
      "City: Castro, ID: 3466704\n",
      "City: Nabire, ID: 1634614\n",
      "City: Airai, ID: 1651810\n",
      "City: Goderich, ID: 5962442\n",
      "City: Komsomolskiy, ID: 1513491\n",
      "City: Lavrentiya, ID: 4031637\n",
      "City: Jutai, ID: 3663693\n",
      "City: Sur, ID: 286245\n",
      "City: Mahebourg, ID: 934322\n",
      "City: Nantucket, ID: 4944903\n",
      "City: Turukhansk, ID: 1488903\n",
      "City: Les Cayes, ID: 3728097\n",
      "City: Lakes Entrance, ID: 2160735\n",
      "City: Trairi, ID: 3386177\n",
      "City: Ambilobe, ID: 1082243\n",
      "City: Trondheim, ID: 3133880\n",
      "City: Lata, ID: 2738381\n",
      "City: Puerto Colombia, ID: 3671497\n",
      "City: Puerto Narino, ID: 3671387\n",
      "City: Saint George, ID: 5546220\n",
      "City: Finschhafen, ID: 2097418\n",
      "City: Upernavik, ID: 3418910\n",
      "City: Ayr, ID: 2656708\n",
      "City: Shache, ID: 1280037\n",
      "City: Gigmoto, ID: 1712961\n",
      "City: Sola, ID: 2134814\n",
      "City: Gat, ID: 293842\n",
      "City: Assiniboia, ID: 5887798\n",
      "City: Belmonte, ID: 3470137\n",
      "City: Pimentel, ID: 3693584\n",
      "City: North Bend, ID: 5742974\n",
      "City: Hofn, ID: 2630299\n",
      "City: Rotenburg, ID: 2844437\n",
      "City: Norman Wells, ID: 6089245\n",
      "City: Souillac, ID: 933995\n",
      "City: Sao Filipe, ID: 3374210\n",
      "City: Neka, ID: 122397\n",
      "City: Antropovo, ID: 581456\n",
      "City: Velizh, ID: 475955\n",
      "City: Bilibino, ID: 2126682\n",
      "City: Hambantota, ID: 1244926\n",
      "City: Erzin, ID: 296852\n",
      "City: Bridlington, ID: 2654728\n",
      "City: Dinar, ID: 316634\n",
      "City: Maputo, ID: 1040652\n",
      "City: Ust-Uda, ID: 2013865\n",
      "City: Emba, ID: 609924\n",
      "City: Kahului, ID: 5847411\n",
      "City: Torbay, ID: 6167817\n",
      "City: Nagato, ID: 1899102\n",
      "City: Inirida, ID: 3671450\n",
      "City: Maues, ID: 3395062\n",
      "City: Gogrial, ID: 374739\n",
      "City: Vardo, ID: 777019\n",
      "City: Itarantim, ID: 3460622\n",
      "City: Provideniya, ID: 4031574\n",
      "City: Majene, ID: 1636806\n",
      "City: Yeniseysk, ID: 1485997\n",
      "City: Yar-Sale, ID: 1486321\n",
      "City: Koslan, ID: 544084\n",
      "City: Pachino, ID: 6539213\n",
      "City: Sayyan, ID: 70979\n",
      "City: Nelson Bay, ID: 2155562\n",
      "City: Skibbereen, ID: 2961459\n",
      "City: Neepawa, ID: 6086673\n",
      "City: Rotherham, ID: 2639093\n",
      "City: Muros, ID: 3115824\n",
      "City: Raahe, ID: 640276\n",
      "City: Issoire, ID: 3012664\n",
      "City: Doha, ID: 290030\n",
      "City: Khandyga, ID: 2022773\n",
      "City: Mingoyo, ID: 877925\n",
      "City: Yumen, ID: 1528998\n",
      "City: Gasa, ID: 281133\n",
      "City: Simbahan, ID: 1695180\n",
      "City: Port Augusta, ID: 2063056\n",
      "City: Gazli, ID: 1513990\n",
      "City: Cabo San Lucas, ID: 3985710\n",
      "City: Jacmel, ID: 3723779\n",
      "City: Meulaboh, ID: 1214488\n",
      "City: Marienburg, ID: 3092472\n",
      "City: Praia Da Vitoria, ID: 3372760\n",
      "City: Avarua, ID: 4035715\n",
      "City: Kruisfontein, ID: 986717\n",
      "City: Moron, ID: 3430545\n",
      "City: Guerrero Negro, ID: 4021858\n",
      "City: Lompoc, ID: 5367788\n",
      "City: Pinawa, ID: 6104820\n",
      "City: Alice Springs, ID: 2077895\n",
      "City: Lasa, ID: 3175096\n",
      "City: Dali, ID: 1814093\n",
      "City: Belyy Yar, ID: 1510377\n",
      "City: Shiroishi, ID: 2111016\n",
      "City: Yerbogachen, ID: 2012956\n",
      "City: Lugovoy, ID: 1521293\n",
      "City: Sibolga, ID: 1213855\n",
      "City: Kaeo, ID: 2189343\n",
      "City: Chaoyang, ID: 2038120\n",
      "City: Mnogovershinnyy, ID: 2019935\n",
      "City: Sitka, ID: 5557293\n",
      "City: Dulce Nombre De Culmi, ID: 3612810\n",
      "City: Miandrivazo, ID: 1059051\n",
      "City: San Andres, ID: 3670218\n",
      "City: Raudeberg, ID: 3146487\n",
      "City: Hovd, ID: 1516048\n",
      "City: Juneau, ID: 5554072\n",
      "City: Harper, ID: 2276492\n",
      "City: Bar, ID: 712861\n",
      "City: Berbera, ID: 64435\n",
      "City: Hun, ID: 2216645\n",
      "City: Maceio, ID: 3395981\n",
      "City: Chany, ID: 1508458\n",
      "City: Kampene, ID: 214575\n",
      "City: Sembakung, ID: 1627877\n",
      "City: East London, ID: 1006984\n",
      "City: Ashti, ID: 1278290\n",
      "City: Bethanien, ID: 3358416\n",
      "City: Lerwick, ID: 2644605\n",
      "City: Nhulunbuy, ID: 2064735\n",
      "City: Neiafu, ID: 4032420\n",
      "City: Bathsheba, ID: 3374083\n",
      "City: Namatanai, ID: 2090021\n",
      "City: Coquimbo, ID: 3893629\n",
      "City: Parry Sound, ID: 6098747\n",
      "City: Nurota, ID: 1513087\n",
      "City: Hammerfest, ID: 779683\n",
      "City: De Aar, ID: 1011632\n",
      "City: Tautira, ID: 4033557\n",
      "City: Cervo, ID: 3125287\n",
      "City: Soderhamn, ID: 2676224\n",
      "City: Santo Antonio Do Monte, ID: 3449500\n",
      "City: Shitanjing, ID: 1794971\n",
      "City: San Quintin, ID: 3984997\n",
      "City: Praia, ID: 3374333\n",
      "City: Maragogi, ID: 3395458\n",
      "City: Sheridan, ID: 5838199\n",
      "City: Villa Bruzual, ID: 3625346\n",
      "City: Charlestown, ID: 2171766\n",
      "City: Pochutla, ID: 3517970\n",
      "City: Haines Junction, ID: 5969025\n",
      "City: Severo-Kurilsk, ID: 2121385\n",
      "City: Berlevag, ID: 780687\n",
      "City: Ulladulla, ID: 2145554\n",
      "City: Polovinnoye, ID: 1494523\n",
      "City: Do Gonbadan, ID: 136014\n",
      "City: Knysna, ID: 988698\n",
      "City: Elko, ID: 5703673\n",
      "City: Beringovskiy, ID: 2126710\n",
      "City: Kharp, ID: 1503726\n",
      "City: Dabola, ID: 2422442\n",
      "City: Hobyo, ID: 57000\n",
      "City: Stephenville, ID: 4734350\n",
      "City: Beira, ID: 1052373\n",
      "City: Dubbo, ID: 2168305\n",
      "City: Lipin Bor, ID: 535113\n",
      "City: Kawalu, ID: 1640902\n",
      "City: Kabalo, ID: 215668\n",
      "City: Santa Marta, ID: 3668605\n",
      "City: Cap-Aux-Meules, ID: 5915327\n",
      "City: Mananara, ID: 1061412\n",
      "City: Yinchuan, ID: 1786657\n",
      "City: La Paz, ID: 3911925\n",
      "City: Morgantown, ID: 4815352\n",
      "City: Talnakh, ID: 1490256\n",
      "City: Iquique, ID: 3887127\n",
      "City: Axim, ID: 2303611\n",
      "City: Stornoway, ID: 2636790\n",
      "City: Sao Joao Da Barra, ID: 3448903\n",
      "City: Uthal, ID: 1162862\n",
      "City: Vanimo, ID: 2084442\n",
      "City: Omboue, ID: 2396853\n",
      "City: Tacuarembo, ID: 3440034\n",
      "City: Grand Gaube, ID: 934479\n",
      "City: Ilhabela, ID: 3461425\n",
      "City: Matay, ID: 352628\n",
      "City: Koroni, ID: 259265\n",
      "City: Okhotsk, ID: 2122605\n",
      "City: Susanville, ID: 5572400\n",
      "City: Kununurra, ID: 2068110\n",
      "City: Dukhovshchina, ID: 564234\n",
      "City: Pavlivka, ID: 697841\n",
      "City: Portland, ID: 5746545\n",
      "City: North Platte, ID: 5697939\n",
      "City: Wawa, ID: 2319078\n",
      "City: Manbij, ID: 167357\n",
      "City: Kaitangata, ID: 2208248\n",
      "City: Mangawan, ID: 1263764\n",
      "City: Seoul, ID: 1835848\n",
      "City: Iracoubo, ID: 3381428\n",
      "City: Qaqortoq, ID: 3420846\n",
      "City: Yulara, ID: 6355222\n",
      "City: Bama, ID: 2347954\n",
      "City: Narsaq, ID: 3421719\n",
      "City: Tokur, ID: 2015217\n",
      "City: Puerto Escondido, ID: 3520994\n",
      "City: Kidal, ID: 2455290\n",
      "City: Ishigaki, ID: 1861416\n",
      "City: Limbang, ID: 1737714\n",
      "City: Severo-Yeniseyskiy, ID: 1492566\n",
      "City: Khash, ID: 1160571\n",
      "City: Mutsu, ID: 2127878\n",
      "City: Panaba, ID: 3521972\n",
      "City: Salalah, ID: 286621\n",
      "City: Rio Grande City, ID: 4722837\n",
      "City: Rawson, ID: 3839307\n",
      "City: Havre-Saint-Pierre, ID: 5972291\n",
      "City: Le Marin, ID: 3570426\n",
      "City: Concepcion Del Uruguay, ID: 3435264\n",
      "City: Dhoraji, ID: 1272720\n",
      "City: Plettenberg Bay, ID: 964712\n",
      "City: Namibe, ID: 3347019\n",
      "City: Cape Coast, ID: 2302357\n",
      "City: Melilla, ID: 2513947\n",
      "City: Alta Floresta, ID: 6316343\n",
      "City: Taoudenni, ID: 2450173\n",
      "City: Sao Jose Da Coroa Grande, ID: 3388456\n",
      "City: Natchitoches, ID: 4334734\n",
      "City: Tavda, ID: 1489962\n",
      "City: Antiguo Morelos, ID: 3532824\n",
      "City: Juana Diaz, ID: 4565712\n",
      "City: Daru, ID: 2098329\n",
      "City: Merauke, ID: 2082539\n",
      "City: Coihaique, ID: 3894426\n",
      "City: Litovko, ID: 2020738\n",
      "City: Bilma, ID: 2446796\n",
      "City: Pangnirtung, ID: 6096551\n",
      "City: Carauari, ID: 3664659\n",
      "City: Fort Nelson, ID: 5955902\n",
      "City: Lewisporte, ID: 6053446\n",
      "City: Zyryanka, ID: 2119283\n",
      "City: Baghmara, ID: 1274553\n",
      "City: Dergachi, ID: 566456\n",
      "City: Klaksvik, ID: 2618795\n",
      "City: Turayf, ID: 101312\n",
      "City: Saint Anthony, ID: 5044290\n",
      "City: Sheffield, ID: 2638077\n",
      "City: Adrar, ID: 2381972\n",
      "City: Strezhevoy, ID: 1490796\n",
      "City: Victor Harbor, ID: 2059470\n",
      "City: Nago, ID: 1856068\n",
      "City: Malumfashi, ID: 2331005\n",
      "City: Mindelo, ID: 3374462\n",
      "City: Karakol, ID: 1528121\n",
      "City: Przhevalskoye, ID: 514127\n",
      "City: Saint-Joseph, ID: 6690296\n",
      "City: Soure, ID: 3387204\n",
      "City: Laguna, ID: 5364271\n",
      "City: Paka, ID: 1734313\n",
      "City: Wanlaweyn, ID: 50672\n",
      "City: Kloulklubed, ID: 7671223\n",
      "City: Olden, ID: 3135601\n",
      "City: Ewa Beach, ID: 5855051\n",
      "City: Uchaly, ID: 479704\n",
      "City: Tulsipur, ID: 1282635\n",
      "City: Methven, ID: 2186895\n",
      "City: Kolobrzeg, ID: 3095795\n",
      "City: Santa Barbara, ID: 5392952\n",
      "City: Kolvereid, ID: 3149577\n",
      "City: Surt, ID: 2210554\n",
      "City: Buckeye, ID: 5287262\n",
      "City: Balikpapan, ID: 1650527\n",
      "City: Waw, ID: 363885\n",
      "City: Ostrovnoy, ID: 556268\n",
      "City: Quatre Cocos, ID: 1106643\n",
      "City: Sao Mateus, ID: 3448519\n",
      "City: Rabo De Peixe, ID: 3372745\n",
      "City: Linxia, ID: 1803331\n",
      "City: Danville, ID: 4755280\n",
      "City: Beloit, ID: 5245387\n",
      "City: Roma, ID: 5134295\n",
      "City: Fuxin, ID: 2037346\n",
      "City: Karratha, ID: 6620339\n",
      "City: Emerald, ID: 2167426\n",
      "City: Lilongwe, ID: 927967\n",
      "City: Novokruchininskiy, ID: 2018925\n",
      "City: Ola, ID: 2122574\n",
      "City: Dwarka, ID: 1272140\n",
      "City: Tessalit, ID: 2449893\n",
      "City: San Ramon, ID: 5392593\n",
      "City: Esso, ID: 2125711\n",
      "City: Sorland, ID: 3137469\n",
      "City: Fukue, ID: 1863997\n",
      "City: Tupik, ID: 2014836\n",
      "City: Sulangan, ID: 1685422\n",
      "City: Matagami, ID: 6067747\n",
      "City: Baoding, ID: 1816971\n",
      "City: Leeton, ID: 2160413\n",
      "City: Ejido, ID: 3644417\n",
      "City: Ahipara, ID: 2194098\n",
      "City: Honiara, ID: 2108502\n",
      "City: Pombas, ID: 3374351\n",
      "City: Port Lincoln, ID: 2063036\n",
      "City: Poddorye, ID: 508441\n",
      "City: Mananjary, ID: 1061335\n",
      "City: Coahuayana, ID: 4013679\n",
      "City: Ballina, ID: 2177069\n",
      "City: Athabasca, ID: 5887916\n",
      "City: Sovetskiy, ID: 1491230\n",
      "City: San Alberto, ID: 3670242\n",
      "City: Dahegam, ID: 1273704\n",
      "City: Yei, ID: 363619\n",
      "City: Nizhniy Kuranakh, ID: 2019135\n",
      "City: Salinopolis, ID: 3389822\n",
      "City: Uige, ID: 2236568\n",
      "City: Cartagena, ID: 3687238\n",
      "City: Tabas, ID: 113659\n",
      "City: Udachnyy, ID: 2014624\n",
      "City: Winnemucca, ID: 5710360\n",
      "City: Taunggyi, ID: 1293960\n",
      "City: Boende, ID: 218680\n",
      "City: Nanortalik, ID: 3421765\n",
      "City: Lima, ID: 3936456\n",
      "City: Huarmey, ID: 3939168\n",
      "City: Anori, ID: 3665315\n",
      "City: Kampong Thum, ID: 1831125\n",
      "City: Sampit, ID: 1628884\n",
      "City: Cabangahan, ID: 1721886\n",
      "City: Pangody, ID: 1495626\n",
      "City: Ponta Delgada, ID: 3372783\n",
      "City: Kalabo, ID: 915471\n",
      "City: Obo, ID: 236950\n",
      "City: Ust-Maya, ID: 2013918\n",
      "City: Korcula, ID: 3197710\n",
      "City: Singaparna, ID: 1626936\n",
      "City: Shizuishan, ID: 1794806\n",
      "City: Salinas, ID: 5391295\n",
      "City: Martapura, ID: 1636022\n",
      "City: Cuauhtemoc, ID: 4012406\n",
      "City: Ouesso, ID: 2255564\n",
      "City: Ketchikan, ID: 5554428\n",
      "City: San Pedro, ID: 1688781\n",
      "City: Sorong, ID: 1626542\n",
      "City: Pimenta Bueno, ID: 3924908\n",
      "City: Zharkent, ID: 1520253\n"
     ]
    }
   ],
   "source": [
    "city_weather = []\n",
    "for city in cities[:]:\n",
    "    \n",
    "    url = f\"https://api.openweathermap.org/data/2.5/weather?q={city}&units=imperial&appid={weather_api_key}\"\n",
    "    response = requests.get(url)\n",
    "    if response.status_code == 200:\n",
    "        city_dict = response.json()\n",
    "        city_weather.append(city_dict)\n",
    "        print(f\"City: {city.title()}, ID: {city_dict['id']}\")"
   ]
  },
  {
   "cell_type": "markdown",
   "metadata": {},
   "source": [
    "### Convert Raw Data to DataFrame\n",
    "* Export the city data into a .csv.\n",
    "* Display the DataFrame"
   ]
  },
  {
   "cell_type": "code",
   "execution_count": 8,
   "metadata": {},
   "outputs": [
    {
     "data": {
      "text/plain": [
       "City          547\n",
       "Lat           547\n",
       "Lng           547\n",
       "Max_temp      547\n",
       "Humidity      547\n",
       "Cloudiness    547\n",
       "Wind_speed    547\n",
       "Country       547\n",
       "Date          547\n",
       "dtype: int64"
      ]
     },
     "execution_count": 8,
     "metadata": {},
     "output_type": "execute_result"
    }
   ],
   "source": [
    "#city_dict = city_weather[0]\n",
    "\n",
    "#result = {\n",
    "           # \"City\": [],\n",
    "           # \"Lat\" : [],\n",
    "           # \"Lng\" : [],\n",
    "           # \"Max_temp\": [],\n",
    "           # \"Humidity\": [],\n",
    "           # \"Cloudiness\": [],\n",
    "            #\"Wind_speed\": [],\n",
    "            #\"Country\": [],\n",
    "           # \"Date\": []\n",
    "#}\n",
    "results = {\n",
    "            \"City\":[],\n",
    "            \"Lat\":[],\n",
    "            \"Lng\":[],\n",
    "            \"Max_temp\":[],\n",
    "            \"Humidity\":[],\n",
    "            \"Cloudiness\":[],\n",
    "            \"Wind_speed\":[],\n",
    "            \"Country\":[],\n",
    "            \"Date\":[]\n",
    "\n",
    "\n",
    "}\n",
    "for city_dict in city_weather:\n",
    "    results[\"City\"].append(city_dict['name'])\n",
    "    results[\"Lat\"].append(city_dict['coord']['lat'])\n",
    "    results[\"Lng\"].append(city_dict['coord']['lon'])\n",
    "    results[\"Max_temp\"].append(city_dict['main']['temp_max'])\n",
    "    results[\"Humidity\"].append(city_dict['main']['humidity'])\n",
    "    results[\"Cloudiness\"].append(city_dict['clouds']['all'])\n",
    "    results[\"Wind_speed\"].append(city_dict['wind']['speed'])\n",
    "    results[\"Country\"].append(city_dict['sys']['country'])\n",
    "    results[\"Date\"].append(city_dict['dt'])\n",
    "    \n",
    "df= pd.DataFrame(results)\n",
    "\n",
    "df.count()"
   ]
  },
  {
   "cell_type": "code",
   "execution_count": 9,
   "metadata": {},
   "outputs": [
    {
     "data": {
      "text/html": [
       "<div>\n",
       "<style scoped>\n",
       "    .dataframe tbody tr th:only-of-type {\n",
       "        vertical-align: middle;\n",
       "    }\n",
       "\n",
       "    .dataframe tbody tr th {\n",
       "        vertical-align: top;\n",
       "    }\n",
       "\n",
       "    .dataframe thead th {\n",
       "        text-align: right;\n",
       "    }\n",
       "</style>\n",
       "<table border=\"1\" class=\"dataframe\">\n",
       "  <thead>\n",
       "    <tr style=\"text-align: right;\">\n",
       "      <th></th>\n",
       "      <th>City</th>\n",
       "      <th>Lat</th>\n",
       "      <th>Lng</th>\n",
       "      <th>Max_temp</th>\n",
       "      <th>Humidity</th>\n",
       "      <th>Cloudiness</th>\n",
       "      <th>Wind_speed</th>\n",
       "      <th>Country</th>\n",
       "      <th>Date</th>\n",
       "    </tr>\n",
       "  </thead>\n",
       "  <tbody>\n",
       "    <tr>\n",
       "      <th>0</th>\n",
       "      <td>Mar del Plata</td>\n",
       "      <td>-38.00</td>\n",
       "      <td>-57.56</td>\n",
       "      <td>68.00</td>\n",
       "      <td>34</td>\n",
       "      <td>0</td>\n",
       "      <td>4.70</td>\n",
       "      <td>AR</td>\n",
       "      <td>1598035260</td>\n",
       "    </tr>\n",
       "    <tr>\n",
       "      <th>1</th>\n",
       "      <td>Tual</td>\n",
       "      <td>-5.67</td>\n",
       "      <td>132.75</td>\n",
       "      <td>79.41</td>\n",
       "      <td>84</td>\n",
       "      <td>64</td>\n",
       "      <td>12.86</td>\n",
       "      <td>ID</td>\n",
       "      <td>1598035437</td>\n",
       "    </tr>\n",
       "    <tr>\n",
       "      <th>2</th>\n",
       "      <td>San Patricio</td>\n",
       "      <td>19.22</td>\n",
       "      <td>-104.70</td>\n",
       "      <td>87.80</td>\n",
       "      <td>74</td>\n",
       "      <td>75</td>\n",
       "      <td>5.82</td>\n",
       "      <td>MX</td>\n",
       "      <td>1598035546</td>\n",
       "    </tr>\n",
       "    <tr>\n",
       "      <th>3</th>\n",
       "      <td>Jacareacanga</td>\n",
       "      <td>-6.22</td>\n",
       "      <td>-57.75</td>\n",
       "      <td>93.20</td>\n",
       "      <td>56</td>\n",
       "      <td>20</td>\n",
       "      <td>5.82</td>\n",
       "      <td>BR</td>\n",
       "      <td>1598035546</td>\n",
       "    </tr>\n",
       "    <tr>\n",
       "      <th>4</th>\n",
       "      <td>Ushuaia</td>\n",
       "      <td>-54.80</td>\n",
       "      <td>-68.30</td>\n",
       "      <td>46.40</td>\n",
       "      <td>61</td>\n",
       "      <td>75</td>\n",
       "      <td>16.11</td>\n",
       "      <td>AR</td>\n",
       "      <td>1598035546</td>\n",
       "    </tr>\n",
       "  </tbody>\n",
       "</table>\n",
       "</div>"
      ],
      "text/plain": [
       "            City    Lat     Lng  Max_temp  Humidity  Cloudiness  Wind_speed  \\\n",
       "0  Mar del Plata -38.00  -57.56     68.00        34           0        4.70   \n",
       "1           Tual  -5.67  132.75     79.41        84          64       12.86   \n",
       "2   San Patricio  19.22 -104.70     87.80        74          75        5.82   \n",
       "3   Jacareacanga  -6.22  -57.75     93.20        56          20        5.82   \n",
       "4        Ushuaia -54.80  -68.30     46.40        61          75       16.11   \n",
       "\n",
       "  Country        Date  \n",
       "0      AR  1598035260  \n",
       "1      ID  1598035437  \n",
       "2      MX  1598035546  \n",
       "3      BR  1598035546  \n",
       "4      AR  1598035546  "
      ]
     },
     "execution_count": 9,
     "metadata": {},
     "output_type": "execute_result"
    }
   ],
   "source": [
    "df.head()"
   ]
  },
  {
   "cell_type": "code",
   "execution_count": 10,
   "metadata": {},
   "outputs": [
    {
     "data": {
      "text/plain": [
       "RangeIndex(start=0, stop=547, step=1)"
      ]
     },
     "execution_count": 10,
     "metadata": {},
     "output_type": "execute_result"
    }
   ],
   "source": [
    "df.index"
   ]
  },
  {
   "cell_type": "code",
   "execution_count": null,
   "metadata": {},
   "outputs": [],
   "source": []
  },
  {
   "cell_type": "code",
   "execution_count": null,
   "metadata": {},
   "outputs": [],
   "source": []
  },
  {
   "cell_type": "code",
   "execution_count": null,
   "metadata": {},
   "outputs": [],
   "source": []
  },
  {
   "cell_type": "markdown",
   "metadata": {},
   "source": [
    "## Inspect the data and remove the cities where the humidity > 100%.\n",
    "----\n",
    "Skip this step if there are no cities that have humidity > 100%. "
   ]
  },
  {
   "cell_type": "code",
   "execution_count": 11,
   "metadata": {},
   "outputs": [
    {
     "data": {
      "text/html": [
       "<div>\n",
       "<style scoped>\n",
       "    .dataframe tbody tr th:only-of-type {\n",
       "        vertical-align: middle;\n",
       "    }\n",
       "\n",
       "    .dataframe tbody tr th {\n",
       "        vertical-align: top;\n",
       "    }\n",
       "\n",
       "    .dataframe thead th {\n",
       "        text-align: right;\n",
       "    }\n",
       "</style>\n",
       "<table border=\"1\" class=\"dataframe\">\n",
       "  <thead>\n",
       "    <tr style=\"text-align: right;\">\n",
       "      <th></th>\n",
       "      <th>Lat</th>\n",
       "      <th>Lng</th>\n",
       "      <th>Max_temp</th>\n",
       "      <th>Humidity</th>\n",
       "      <th>Cloudiness</th>\n",
       "      <th>Wind_speed</th>\n",
       "      <th>Date</th>\n",
       "    </tr>\n",
       "  </thead>\n",
       "  <tbody>\n",
       "    <tr>\n",
       "      <th>count</th>\n",
       "      <td>547.000000</td>\n",
       "      <td>547.000000</td>\n",
       "      <td>547.000000</td>\n",
       "      <td>547.000000</td>\n",
       "      <td>547.000000</td>\n",
       "      <td>547.000000</td>\n",
       "      <td>5.470000e+02</td>\n",
       "    </tr>\n",
       "    <tr>\n",
       "      <th>mean</th>\n",
       "      <td>20.168592</td>\n",
       "      <td>18.965631</td>\n",
       "      <td>68.990713</td>\n",
       "      <td>69.610603</td>\n",
       "      <td>46.961609</td>\n",
       "      <td>7.549324</td>\n",
       "      <td>1.598036e+09</td>\n",
       "    </tr>\n",
       "    <tr>\n",
       "      <th>std</th>\n",
       "      <td>33.499459</td>\n",
       "      <td>90.430801</td>\n",
       "      <td>14.883543</td>\n",
       "      <td>21.409836</td>\n",
       "      <td>40.227198</td>\n",
       "      <td>5.037544</td>\n",
       "      <td>8.623727e+01</td>\n",
       "    </tr>\n",
       "    <tr>\n",
       "      <th>min</th>\n",
       "      <td>-54.800000</td>\n",
       "      <td>-175.200000</td>\n",
       "      <td>34.000000</td>\n",
       "      <td>3.000000</td>\n",
       "      <td>0.000000</td>\n",
       "      <td>0.340000</td>\n",
       "      <td>1.598035e+09</td>\n",
       "    </tr>\n",
       "    <tr>\n",
       "      <th>25%</th>\n",
       "      <td>-7.780000</td>\n",
       "      <td>-58.635000</td>\n",
       "      <td>56.880000</td>\n",
       "      <td>57.000000</td>\n",
       "      <td>1.000000</td>\n",
       "      <td>3.750000</td>\n",
       "      <td>1.598036e+09</td>\n",
       "    </tr>\n",
       "    <tr>\n",
       "      <th>50%</th>\n",
       "      <td>24.340000</td>\n",
       "      <td>23.680000</td>\n",
       "      <td>71.600000</td>\n",
       "      <td>75.000000</td>\n",
       "      <td>40.000000</td>\n",
       "      <td>6.110000</td>\n",
       "      <td>1.598036e+09</td>\n",
       "    </tr>\n",
       "    <tr>\n",
       "      <th>75%</th>\n",
       "      <td>49.245000</td>\n",
       "      <td>100.260000</td>\n",
       "      <td>80.600000</td>\n",
       "      <td>86.500000</td>\n",
       "      <td>90.000000</td>\n",
       "      <td>10.310000</td>\n",
       "      <td>1.598036e+09</td>\n",
       "    </tr>\n",
       "    <tr>\n",
       "      <th>max</th>\n",
       "      <td>78.220000</td>\n",
       "      <td>179.320000</td>\n",
       "      <td>108.840000</td>\n",
       "      <td>100.000000</td>\n",
       "      <td>100.000000</td>\n",
       "      <td>29.930000</td>\n",
       "      <td>1.598036e+09</td>\n",
       "    </tr>\n",
       "  </tbody>\n",
       "</table>\n",
       "</div>"
      ],
      "text/plain": [
       "              Lat         Lng    Max_temp    Humidity  Cloudiness  Wind_speed  \\\n",
       "count  547.000000  547.000000  547.000000  547.000000  547.000000  547.000000   \n",
       "mean    20.168592   18.965631   68.990713   69.610603   46.961609    7.549324   \n",
       "std     33.499459   90.430801   14.883543   21.409836   40.227198    5.037544   \n",
       "min    -54.800000 -175.200000   34.000000    3.000000    0.000000    0.340000   \n",
       "25%     -7.780000  -58.635000   56.880000   57.000000    1.000000    3.750000   \n",
       "50%     24.340000   23.680000   71.600000   75.000000   40.000000    6.110000   \n",
       "75%     49.245000  100.260000   80.600000   86.500000   90.000000   10.310000   \n",
       "max     78.220000  179.320000  108.840000  100.000000  100.000000   29.930000   \n",
       "\n",
       "               Date  \n",
       "count  5.470000e+02  \n",
       "mean   1.598036e+09  \n",
       "std    8.623727e+01  \n",
       "min    1.598035e+09  \n",
       "25%    1.598036e+09  \n",
       "50%    1.598036e+09  \n",
       "75%    1.598036e+09  \n",
       "max    1.598036e+09  "
      ]
     },
     "execution_count": 11,
     "metadata": {},
     "output_type": "execute_result"
    }
   ],
   "source": [
    "df.describe()"
   ]
  },
  {
   "cell_type": "code",
   "execution_count": 12,
   "metadata": {},
   "outputs": [],
   "source": [
    "#  Get the indices of cities that have humidity over 100%.\n",
    "clean_city_data = df[df[\"Humidity\"] <= 100].copy()"
   ]
  },
  {
   "cell_type": "code",
   "execution_count": 13,
   "metadata": {},
   "outputs": [],
   "source": [
    "# Make a new DataFrame equal to the city data to drop all humidity outliers by index.\n",
    "# Passing \"inplace=False\" will make a copy of the city_data DataFrame, which we call \"clean_city_data\".\n"
   ]
  },
  {
   "cell_type": "code",
   "execution_count": 14,
   "metadata": {},
   "outputs": [],
   "source": [
    "# Extract relevant fields from the data frame\n",
    "\n",
    "\n",
    "# Export the City_Data into a csv\n",
    "df.to_csv(\"city_weather.csv\")"
   ]
  },
  {
   "cell_type": "markdown",
   "metadata": {},
   "source": [
    "## Plotting the Data\n",
    "* Use proper labeling of the plots using plot titles (including date of analysis) and axes labels.\n",
    "* Save the plotted figures as .pngs."
   ]
  },
  {
   "cell_type": "markdown",
   "metadata": {},
   "source": [
    "## Latitude vs. Temperature Plot"
   ]
  },
  {
   "cell_type": "code",
   "execution_count": 25,
   "metadata": {
    "scrolled": true
   },
   "outputs": [
    {
     "data": {
      "image/png": "[encoded data removed]",
      "text/plain": [
       "<Figure size 432x288 with 1 Axes>"
      ]
     },
     "metadata": {},
     "output_type": "display_data"
    }
   ],
   "source": [
    "clean_city_data.plot.scatter(\"Lat\", \"Max_temp\")\n",
    "plt.title(\"Latitude vs Temperature Plot\")\n",
    "plt.savefig(\"output_data/fig1.png\")\n",
    "plt.show()\n"
   ]
  },
  {
   "cell_type": "markdown",
   "metadata": {},
   "source": [
    "## Latitude vs. Humidity Plot"
   ]
  },
  {
   "cell_type": "code",
   "execution_count": 26,
   "metadata": {},
   "outputs": [
    {
     "data": {
      "image/png": "[encoded data removed]",
      "text/plain": [
       "<Figure size 432x288 with 1 Axes>"
      ]
     },
     "metadata": {},
     "output_type": "display_data"
    }
   ],
   "source": [
    "clean_city_data.plot.scatter(\"Lat\", \"Humidity\")\n",
    "plt.title(\"Latitude vs Humidity Plot\")\n",
    "plt.savefig(\"output_data/fig2.png\")\n",
    "plt.show()"
   ]
  },
  {
   "cell_type": "markdown",
   "metadata": {},
   "source": [
    "## Latitude vs. Cloudiness Plot"
   ]
  },
  {
   "cell_type": "code",
   "execution_count": 27,
   "metadata": {},
   "outputs": [
    {
     "data": {
      "image/png": "[encoded data removed]",
      "text/plain": [
       "<Figure size 432x288 with 1 Axes>"
      ]
     },
     "metadata": {},
     "output_type": "display_data"
    }
   ],
   "source": [
    "clean_city_data.plot.scatter(\"Lat\", \"Cloudiness\")\n",
    "plt.title(\"Latitude vs Cloudiness Plot\")\n",
    "plt.savefig(\"output_data/fig3.png\")\n",
    "plt.show()"
   ]
  },
  {
   "cell_type": "markdown",
   "metadata": {},
   "source": [
    "## Latitude vs. Wind Speed Plot"
   ]
  },
  {
   "cell_type": "code",
   "execution_count": 28,
   "metadata": {},
   "outputs": [
    {
     "data": {
      "image/png": "[encoded data removed]",
      "text/plain": [
       "<Figure size 432x288 with 1 Axes>"
      ]
     },
     "metadata": {},
     "output_type": "display_data"
    }
   ],
   "source": [
    "clean_city_data.plot.scatter(\"Lat\", \"Wind_speed\")\n",
    "plt.title(\"Latitude vs Wind Speed Plot\")\n",
    "plt.savefig(\"output_data/fig4.png\")\n",
    "plt.show()"
   ]
  },
  {
   "cell_type": "markdown",
   "metadata": {},
   "source": [
    "## Linear Regression"
   ]
  },
  {
   "cell_type": "code",
   "execution_count": 19,
   "metadata": {},
   "outputs": [],
   "source": [
    "# OPTIONAL: Create a function to create Linear Regression plots"
   ]
  },
  {
   "cell_type": "code",
   "execution_count": 20,
   "metadata": {},
   "outputs": [],
   "source": [
    "# Create Northern and Southern Hemisphere DataFrames"
   ]
  },
  {
   "cell_type": "markdown",
   "metadata": {},
   "source": [
    "####  Northern Hemisphere - Max Temp vs. Latitude Linear Regression"
   ]
  },
  {
   "cell_type": "code",
   "execution_count": 29,
   "metadata": {},
   "outputs": [
    {
     "data": {
      "image/png": "[encoded data removed]",
      "text/plain": [
       "<Figure size 432x288 with 1 Axes>"
      ]
     },
     "metadata": {},
     "output_type": "display_data"
    }
   ],
   "source": [
    "xy = clean_city_data[[\"Lat\", \"Max_temp\"]]\n",
    "m, b, r2, p, stderr = linregress(xy)\n",
    "\n",
    "x= xy[\"Lat\"]\n",
    "line = m*x + b\n",
    "\n",
    "eq = f\"{m:.2f}x + {b:.2f}\"\n",
    "\n",
    "\n",
    "xy.plot.scatter(\"Lat\", \"Max_temp\")\n",
    "plt.plot(x, line, \"r\")\n",
    "plt.text(-60,100, eq, color='r', size=12)\n",
    "plt.title(\"Max Temp vs. Latitude Linear Regression\")\n",
    "plt.savefig(\"output_data/fig5.png\")\n",
    "plt.show()"
   ]
  },
  {
   "cell_type": "markdown",
   "metadata": {},
   "source": [
    "####  Southern Hemisphere - Max Temp vs. Latitude Linear Regression"
   ]
  },
  {
   "cell_type": "code",
   "execution_count": null,
   "metadata": {},
   "outputs": [],
   "source": []
  },
  {
   "cell_type": "markdown",
   "metadata": {},
   "source": [
    "####  Northern Hemisphere - Humidity (%) vs. Latitude Linear Regression"
   ]
  },
  {
   "cell_type": "code",
   "execution_count": 30,
   "metadata": {},
   "outputs": [
    {
     "data": {
      "image/png": "[encoded data removed]",
      "text/plain": [
       "<Figure size 432x288 with 1 Axes>"
      ]
     },
     "metadata": {},
     "output_type": "display_data"
    }
   ],
   "source": [
    "xy = clean_city_data[[\"Lat\", \"Humidity\"]]\n",
    "m, b, r2, p, stderr = linregress(xy)\n",
    "\n",
    "x= xy[\"Lat\"]\n",
    "line = m*x + b\n",
    "\n",
    "eq = f\"{m:.2f}x + {b:.2f}\"\n",
    "\n",
    "xy.plot.scatter(\"Lat\", \"Humidity\")\n",
    "plt.plot(x, line, \"r\")\n",
    "plt.text(40,10, eq, color='r', size=12)\n",
    "plt.title(\"Humidity (%) vs. Latitude Linear Regression\")\n",
    "plt.savefig(\"output_data/fig6.png\")\n",
    "plt.show()"
   ]
  },
  {
   "cell_type": "markdown",
   "metadata": {},
   "source": [
    "####  Southern Hemisphere - Humidity (%) vs. Latitude Linear Regression"
   ]
  },
  {
   "cell_type": "code",
   "execution_count": null,
   "metadata": {},
   "outputs": [],
   "source": []
  },
  {
   "cell_type": "markdown",
   "metadata": {},
   "source": [
    "####  Northern Hemisphere - Cloudiness (%) vs. Latitude Linear Regression"
   ]
  },
  {
   "cell_type": "code",
   "execution_count": 31,
   "metadata": {},
   "outputs": [
    {
     "data": {
      "image/png": "[encoded data removed]",
      "text/plain": [
       "<Figure size 432x288 with 1 Axes>"
      ]
     },
     "metadata": {},
     "output_type": "display_data"
    }
   ],
   "source": [
    "xy = clean_city_data[[\"Lat\", \"Cloudiness\"]]\n",
    "m, b, r2, p, stderr = linregress(xy)\n",
    "\n",
    "x= xy[\"Lat\"]\n",
    "line = m*x + b\n",
    "\n",
    "eq = f\"{m:.2f}x + {b:.2f}\"\n",
    "\n",
    "xy.plot.scatter(\"Lat\", \"Cloudiness\")\n",
    "plt.plot(x, line, \"r\")\n",
    "plt.text(-60,10, eq, color='r', size=12)\n",
    "plt.title(\"Cloudiness vs. Latitude Linear Regression\")\n",
    "plt.savefig(\"output_data/fig7.png\")\n",
    "plt.show()"
   ]
  },
  {
   "cell_type": "markdown",
   "metadata": {},
   "source": [
    "####  Southern Hemisphere - Cloudiness (%) vs. Latitude Linear Regression"
   ]
  },
  {
   "cell_type": "code",
   "execution_count": null,
   "metadata": {},
   "outputs": [],
   "source": []
  },
  {
   "cell_type": "markdown",
   "metadata": {},
   "source": [
    "####  Northern Hemisphere - Wind Speed (mph) vs. Latitude Linear Regression"
   ]
  },
  {
   "cell_type": "code",
   "execution_count": 32,
   "metadata": {},
   "outputs": [
    {
     "data": {
      "image/png": "[encoded data removed]",
      "text/plain": [
       "<Figure size 432x288 with 1 Axes>"
      ]
     },
     "metadata": {},
     "output_type": "display_data"
    }
   ],
   "source": [
    "xy = clean_city_data[[\"Lat\", \"Wind_speed\"]]\n",
    "m, b, r2, p, stderr = linregress(xy)\n",
    "\n",
    "x= xy[\"Lat\"]\n",
    "line = m*x + b\n",
    "\n",
    "eq = f\"{m:.2f}x + {b:.2f}\"\n",
    "\n",
    "xy.plot.scatter(\"Lat\", \"Wind_speed\")\n",
    "plt.plot(x, line, \"r\")\n",
    "plt.text(40,30, eq, color='r', size=12)\n",
    "plt.title(\"Wind Speed vs. Latitude Linear Regression\")\n",
    "plt.savefig(\"output_data/fig8.png\")\n",
    "plt.show()"
   ]
  },
  {
   "cell_type": "markdown",
   "metadata": {},
   "source": [
    "####  Southern Hemisphere - Wind Speed (mph) vs. Latitude Linear Regression"
   ]
  },
  {
   "cell_type": "code",
   "execution_count": null,
   "metadata": {},
   "outputs": [],
   "source": []
  },
  {
   "cell_type": "code",
   "execution_count": null,
   "metadata": {},
   "outputs": [],
   "source": []
  }
 ],
 "metadata": {
  "anaconda-cloud": {},
  "kernel_info": {
   "name": "python3"
  },
  "kernelspec": {
   "display_name": "Python 3",
   "language": "python",
   "name": "python3"
  },
  "language_info": {
   "codemirror_mode": {
    "name": "ipython",
    "version": 3
   },
   "file_extension": ".py",
   "mimetype": "text/x-python",
   "name": "python",
   "nbconvert_exporter": "python",
   "pygments_lexer": "ipython3",
   "version": "3.7.6"
  },
  "latex_envs": {
   "LaTeX_envs_menu_present": true,
   "autoclose": false,
   "autocomplete": true,
   "bibliofile": "biblio.bib",
   "cite_by": "apalike",
   "current_citInitial": 1,
   "eqLabelWithNumbers": true,
   "eqNumInitial": 1,
   "hotkeys": {
    "equation": "Ctrl-E",
    "itemize": "Ctrl-I"
   },
   "labels_anchors": false,
   "latex_user_defs": false,
   "report_style_numbering": false,
   "user_envs_cfg": false
  },
  "nteract": {
   "version": "0.12.3"
  }
 },
 "nbformat": 4,
 "nbformat_minor": 2
}
